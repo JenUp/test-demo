{
 "cells": [
  {
   "cell_type": "markdown",
   "metadata": {},
   "source": [
    "# 主体框架\n"
   ]
  },
  {
   "cell_type": "markdown",
   "metadata": {},
   "source": [
    "- 核心：围绕着是否存在仓位\n",
    "- 考虑程序断连\n",
    "    - 当程序处于断连状态，必须立刻有连接的操作\n",
    "    - 连接保证后，再考虑是否下载数据、进行操作"
   ]
  },
  {
   "cell_type": "markdown",
   "metadata": {},
   "source": [
    "初始化函数及准备\n",
    "进出场条件设置\n",
    "策略可视化\n",
    "MPLFinance\n",
    "策略执行\n",
    "TWS中的错误响应问题\n",
    "策略监控\n",
    "时区问题\n",
    "结果统计\n",
    "程序修正\n"
   ]
  },
  {
   "cell_type": "markdown",
   "metadata": {},
   "source": [
    "# 导入模块、包、类"
   ]
  },
  {
   "cell_type": "code",
   "execution_count": 1,
   "metadata": {},
   "outputs": [],
   "source": [
    "from ibapi.client import EClient, HistoricalTick# , ClientException\n",
    "from ibapi.order import Order\n",
    "from ibapi.wrapper import EWrapper, CommissionReport, Contract\n",
    "from ibapi.utils import iswrapper\n",
    "from ibapi.execution import Execution, ExecutionFilter\n",
    "from ibapi.account_summary_tags import AccountSummaryTags"
   ]
  },
  {
   "cell_type": "code",
   "execution_count": 2,
   "metadata": {},
   "outputs": [],
   "source": [
    "import collections\n",
    "from threading import Thread\n",
    "import time\n",
    "from datetime import datetime\n",
    "import pandas as pd\n",
    "import talib as ta\n",
    "import numpy as np\n",
    "import matplotlib.pyplot as plt\n",
    "import mplfinance as mpf\n",
    "plt.rcParams['font.sans-serif'] = ['Kaiti']\n",
    "plt.rcParams['axes.unicode_minus'] = False"
   ]
  },
  {
   "cell_type": "markdown",
   "metadata": {},
   "source": [
    "# 定义交易函数"
   ]
  },
  {
   "cell_type": "markdown",
   "metadata": {},
   "source": [
    "## 下市价订单"
   ]
  },
  {
   "cell_type": "code",
   "execution_count": 8,
   "metadata": {},
   "outputs": [],
   "source": [
    "def Place_Market_Order( Contract: Contract, Action: str, Quantity: float):\n",
    "    order = Order()\n",
    "    order.action  = Action\n",
    "    order.totalQuantity = Quantity\n",
    "    order.orderType = 'mkt'\n",
    "    # order.lmtPrice = 1.15\n",
    "    order.transmit = True\n",
    "    \n",
    "    # 获得下一个可用订单编号\n",
    "    ibapi.reqIds(-1)\n",
    "    time.sleep(0.5)\n",
    "    \n",
    "    if ibapi.nextorderId:\n",
    "        ibapi.placeOrder(ibapi.nextorderId, Contract, order)\n",
    "        \"\"\"执行之后，响应函数为 openOrder 和 orderStatus\"\"\"\n",
    "        time.sleep(2)\n",
    "    else:\n",
    "        print('Order ID not received. Ending application.')\n",
    "        sys.exit()"
   ]
  },
  {
   "cell_type": "markdown",
   "metadata": {},
   "source": [
    "## 指标计算：唐奇安通道"
   ]
  },
  {
   "cell_type": "code",
   "execution_count": 9,
   "metadata": {},
   "outputs": [],
   "source": [
    "def donchian_high(df:pd.DataFrame, n:int, name:str) -> None:\n",
    "    \"\"\"\n",
    "    作用：计算唐奇安通道的上轨\n",
    "    参数：\n",
    "        df 数据\n",
    "        n 表示周期\n",
    "        name 表示在 df 中新的列名，用来存储唐奇安通道的上轨数值\n",
    "    \"\"\"\n",
    "    length = len(df)\n",
    "    if length < n:\n",
    "        print('获取数据太短，不能计算唐奇安通道')\n",
    "        return \n",
    "    df['{}'.format(name)] =  np.NAN  # 初始化空数据框\n",
    "    for i in range(n, length):\n",
    "        df['{}'.format(name)] [i] = df['High'][i-n:i].max()"
   ]
  },
  {
   "cell_type": "code",
   "execution_count": 10,
   "metadata": {},
   "outputs": [],
   "source": [
    "def donchian_low(df:pd.DataFrame, n:int, name:str) -> None:\n",
    "    \"\"\"\n",
    "    作用：计算唐奇安通道的上轨\n",
    "    参数：\n",
    "        df 数据\n",
    "        n 表示周期\n",
    "        name 表示在 df 中新的列名，用来存储唐奇安通道的下轨数值\n",
    "    \"\"\"\n",
    "    length = len(df)\n",
    "    if length < n:\n",
    "        print('获取数据太短，不能计算唐奇安通道')\n",
    "        return \n",
    "    df['{}'.format(name)] =  np.NAN  # 初始化空数据框\n",
    "    for i in range(n, length):\n",
    "        df['{}'.format(name)] [i] = df['Low'][i-n:i].max()"
   ]
  },
  {
   "cell_type": "markdown",
   "metadata": {},
   "source": [
    "## 入场出场信号"
   ]
  },
  {
   "cell_type": "markdown",
   "metadata": {},
   "source": [
    "- 定义这些条件需要注意 `df[-1]` 表示当前还没有走完的一根，此根蜡烛图不在计算范围内"
   ]
  },
  {
   "cell_type": "code",
   "execution_count": 11,
   "metadata": {},
   "outputs": [],
   "source": [
    "def buy_condition() -> bool:  # 做多\n",
    "    if df['High'][-2] > df['donchian_up'][-2] and df['High'][-3] < df['donchian_up'][-3]:    # 比较运算符的优先级 > 逻辑与\n",
    "        return True\n",
    "    else:\n",
    "        return False"
   ]
  },
  {
   "cell_type": "code",
   "execution_count": 12,
   "metadata": {},
   "outputs": [],
   "source": [
    "def sell_condition() -> bool:  # 做空\n",
    "    if df['Low'][-2] < df['donchian_down'][-2] and df['Low'][-3] > df['donchian_down'][-3]:    # 比较运算符的优先级 > 逻辑与\n",
    "        return True\n",
    "    else:\n",
    "        return False"
   ]
  },
  {
   "cell_type": "code",
   "execution_count": 13,
   "metadata": {},
   "outputs": [],
   "source": [
    "def close_buy_condition() -> bool:  # 多头平仓\n",
    "    if df['Low'][-2] < df['donchian_down_n3'][-2] and df['Low'][-3] > df['donchian_down_n3'][-3]:    # 比较运算符的优先级 > 逻辑与\n",
    "        return True\n",
    "    else:\n",
    "        return False"
   ]
  },
  {
   "cell_type": "code",
   "execution_count": 14,
   "metadata": {},
   "outputs": [],
   "source": [
    "def close_sell_condition() -> bool: # 空头平仓\n",
    "    if df['High'][-2] > df['donchian_up_n3'][-2] and df['High'][-3] < df['donchian_up_n3'][-3]:    # 比较运算符的优先级 > 逻辑与\n",
    "        return True\n",
    "    else:\n",
    "        return False"
   ]
  },
  {
   "cell_type": "markdown",
   "metadata": {},
   "source": [
    "## 日志记录"
   ]
  },
  {
   "cell_type": "code",
   "execution_count": 15,
   "metadata": {},
   "outputs": [],
   "source": [
    "def log_to_localfile(content:str):\n",
    "    current_time = datetime.now().strftime('%Y-%m-%d %H:%M:%S')\n",
    "    content = current_time +':'+ content\n",
    "    space = '\\n'\n",
    "    a = open(file = 'TWS_log.txt', mode = 'a+')\n",
    "    a.write(space + content + space)\n",
    "    a.close()"
   ]
  },
  {
   "cell_type": "code",
   "execution_count": 16,
   "metadata": {},
   "outputs": [],
   "source": [
    "def req_current_time() -> str:\n",
    "    current_IDE_time = datetime.now().strftime('%H:%M:%S')  # 任务2：每秒打印时间显示\n",
    "    #current_IDE_time = datetime.now().strftime('%H:%M')  # 任务2：每秒打印时间显示\n",
    "    return current_IDE_time"
   ]
  },
  {
   "cell_type": "code",
   "execution_count": 17,
   "metadata": {},
   "outputs": [],
   "source": [
    "def req_current_TWS_time() -> str:\n",
    "    current_TWS_time = ibapi.current_TWS_time.strftime('%H:%M')\n",
    "    return current_TWS_time"
   ]
  },
  {
   "cell_type": "markdown",
   "metadata": {},
   "source": [
    "# IBapi 类定义"
   ]
  },
  {
   "cell_type": "code",
   "execution_count": 18,
   "metadata": {},
   "outputs": [],
   "source": [
    "class IBapi(EClient, EWrapper):\n",
    "    \"\"\"\n",
    "    需要这么几方面数据：\n",
    "    # 1. 行情数据：\n",
    "    当前合约的所有时间框架下的数据，需要能够得到在当前时刻的，过去n根bar数据OHLCV\n",
    "    需要获取实时数据，实时tick数据，包含成交数据，以及报价数据\n",
    "\n",
    "    2. 账户数据\n",
    "    当前账户信息\n",
    "    需要得到当前仓位信息，仓位放入dataframe中\n",
    "    历史成交\n",
    "\n",
    "    3. 订单管理数据\n",
    "    订单发送\n",
    "    当前挂单状态\n",
    "    历史订单\n",
    "    \"\"\"\n",
    "    def __init__(self, addr, port, client_id):\n",
    "        posns = collections.defaultdict(list)  # 这是什么意思？\n",
    "\n",
    "        EClient.__init__(self, self)\n",
    "        self.data = []  # self.data:list 必须放置在这个位置，因为是以流形式存在\n",
    "        self.historical_data_end = False  # ?\n",
    "        self.current_position = [] # 自定义的属性，用于保存当前\n",
    "        self.connect(addr, port, client_id)\n",
    "        self.current_TWS_time = datetime.now()\n",
    "\n",
    "        # 客户端线程\n",
    "        thread = Thread(target=self.run)\n",
    "        thread.start()\n",
    "\n",
    "    @iswrapper\n",
    "    def currentTime(self, cur_time):  # 返回当前时间戳：任务2√\n",
    "        t = datetime.fromtimestamp(cur_time)\n",
    "        print('Current time:{}'.format(t))\n",
    "        self.current_TWS_time = t\n",
    "    \n",
    "    @iswrapper    \n",
    "    def historicalData(self, reqId: int, bar):  # 获得行情数据：任务3√\n",
    "        # 这里原来为何没有函数注解呢？这里不能用 bar: Bar，会报错：name 'Bar' is not defined\n",
    "        # print(f'Time: {bar.date} Open:{bar.open} High: {bar.high} Low: {bar.low} Close: {bar.close}')\n",
    "        self.data.append([bar.date, bar.open, bar.high, bar.low, bar.close])\n",
    "            # 此函数重构了historicalData函数，响应reqhistoricalData的请求，返回reqId:int，和bar:Bar\n",
    "        # Bar中包含OHLC和Volume，Volume在外汇中不好使，reqhistoricalData中使用\"TRADES\",这是个错误\n",
    "        # 如果是股票则需要成交量，外汇暂可以认为成交量oo\n",
    "        # https://interactivebrokers.github.io/tws-api/historical_bars.html  \n",
    "        \n",
    "    @iswrapper  \n",
    "    def historicalDataEnd(self, reqId:int, start: str, end:str):   # 标记历史数据结束：任务3√\n",
    "        # Marks the ending of the historical bars reception. \n",
    "        # once all candlesticks have been received the IBApi.EWrapper.historicalDataEnd marker will be sent. \n",
    "        \n",
    "        self.historical_data_end = True  # 这是什么意思啊\n",
    "        print('HistoricalDataEnd.ReqId:', reqId, 'from', start, 'to', end)\n",
    "    \n",
    "    def storehistoricalData(self):  # 任务3 √\n",
    "        # 完全自定义函数，将历史数据存入 df 中\n",
    "        df = pd.DataFrame(self.data, columns = ['DateTime', 'Open', 'High', 'Low', 'Close'])\n",
    "        df['DateTime'] = pd.to_datetime(df['DateTime'])\n",
    "        df.set_index(['DateTime'], inplace = True)\n",
    "#         df.to_csv('eurusd.csv') \n",
    "        return df\n",
    "        # print(df)\n",
    "    \n",
    "    @iswrapper\n",
    "    def position(self, account: str, contract: Contract, position: float,avgCost: float):  # 返回当前仓位信息：任务5√\n",
    "\n",
    "        \"\"\"\n",
    "        参考链接：https://interactivebrokers.github.io/tws-api/interfaceIBApi_1_1EWrapper.html#af4105e2dae9efd6f6bb56f706374c9d6\n",
    "        \"\"\"\n",
    "        super().position(account, contract, position, avgCost)\n",
    "        # print(\"Position.\", \"Account:\", account, \"Symbol:\", contract.symbol,\\\n",
    "              # \"SecType:\", contract.secType, \"Currency:\", contract.currency,\"Position:\", position, \"Avg cost:\", avgCost)\n",
    "        self.current_position.append([account,contract.symbol,contract.secType,contract.currency,position,avgCost])\n",
    "        # 保存账号，合约代码，合约类型，合约货币，合约头寸，平均价格\n",
    "        # current_position 是 IBapi 类自己的一个属性, 列表类型\n",
    "   \n",
    "    def get_current_position_in_df(self):  # 自定义函数: 任务5√\n",
    "        if self.isConnected():\n",
    "            self.position_df = pd.DataFrame(self.current_position, \\\n",
    "                                            columns=['Account', 'Symbol','SecurityType','Currency', 'Position', 'AverageCost'])\n",
    "            return self.position_df\n",
    "        else:\n",
    "            return 0    \n",
    "    \n",
    "    def Find_Position(self, Account: str, Symbol:str, secType:str, Currency):  # 自定义函数：任务5√\n",
    "#         position = self.position_df[(self.position_df['Account' == Account])&\n",
    "#                                    (self.position_df['Symbol' == Symbol])&\n",
    "#                                    (self.position_df['SecurityType' == secType])&\n",
    "#                                    (self.position_df['Currency' == Currency])]\n",
    "#         position = position.reset_index(drop = True)\n",
    "#         print(position)\n",
    "#         return position['Position'][0]  # 这里为什么是 这个？\n",
    "        \n",
    "        position = self.position_df[(self.position_df['Account']==Account) &\n",
    "                                     (self.position_df['Symbol']==Symbol) & \n",
    "                                     (self.position_df['SecurityType']==secType) &\n",
    "                                     (self.position_df['Currency']==Currency)]\n",
    "        position=position.reset_index(drop=True)\n",
    "        print(position)\n",
    "        return position['Position'][0]\n",
    "        \n",
    "    @iswrapper\n",
    "    def nextValidId(self, orderId: int):  # 获得下一个可用订单编号：任务5√\n",
    "        super().nextValidId(orderId)\n",
    "        self.nextorderId = orderId\n",
    "        # print('The next valid order id is: ', self.nextorderId)\n",
    "    \n",
    "    @iswrapper\n",
    "    def openOrder(self, orderId, contract, order,orderState):  # placeorder 的响应函数 任务5√\n",
    "        super().openOrder(orderId, contract, order, orderState)\n",
    "        print(\"OpenOrder. PermId: \", order.permId, \"ClientId:\", order.clientId, \" OrderId:\", orderId, \\\n",
    "              \"Account:\", order.account, \"Symbol:\", contract.symbol, \"SecType:\", contract.secType,\n",
    "              \"Exchange:\", contract.exchange, \"Action:\", order.action, \"OrderType:\", order.orderType,\n",
    "              \"TotalQty:\", order.totalQuantity, \"CashQty:\", order.cashQty, \n",
    "                \"LmtPrice:\", order.lmtPrice, \"AuxPrice:\", order.auxPrice, \"Status:\", orderState.status)\n",
    "    \n",
    "          # order.contract = contract\n",
    "          # self.permId2ord[order.permId] = order\n",
    "    \n",
    "    @iswrapper\n",
    "    def orderStatus(self, orderId, status: str, filled: float,remaining: float, avgFillPrice: float,\\\n",
    "                    permId: int,parentId: int, lastFillPrice: float, clientId: int,whyHeld: str, mktCapPrice: float):\n",
    "        # placeorder 的响应函数 任务5√\n",
    "        super().orderStatus(orderId, status, filled, remaining,avgFillPrice, permId, parentId, lastFillPrice, clientId, whyHeld, mktCapPrice)\n",
    "        print(\"OrderStatus. Id:\", orderId, \"Status:\", status, \"Filled:\", filled,\"Remaining:\", remaining, \"AvgFillPrice:\", avgFillPrice,\n",
    "               \"PermId:\", permId, \"ParentId:\", parentId, \"LastFillPrice:\",lastFillPrice, \"ClientId:\", clientId, \"WhyHeld:\",whyHeld, \"MktCapPrice:\", mktCapPrice)\n",
    "    \n",
    "        \n",
    "    \n",
    "\n",
    "        \n",
    "\n",
    "        \n",
    "#     @iswrapper\n",
    "#     def historicalTicks(self, reqId, ticks, done):  # 这个前面没讲过啊，这个参数是什么意思啊\n",
    "#         #  \t\tHistoricalTick[]  ticks  bool done\n",
    "#         # list of HistoricalBidAsk data \n",
    "#         # reqId: int\n",
    "#         # flag to indicate if all historical tick data has been received \n",
    "#         # https://interactivebrokers.github.io/tws-api/interfaceIBApi_1_1EWrapper.html#aaef348882e2a2c1c21ad8dd2167b2229\n",
    "#         for tick in ticks:\n",
    "#             print('HistoricalTick.ReqId:', reqId, tick)\n",
    "    \n",
    "#     @iswrapper    \n",
    "#     def headTimestamp(self, reqId:int, headTimestamp:str):\n",
    "#         \"\"\"\n",
    "#         作用：returns beginning of data for contract for specified data type \n",
    "#         headTimestamp：string identifying earliest data date \n",
    "#         \"\"\"\n",
    "#         # https://interactivebrokers.github.io/tws-api/interfaceIBApi_1_1EWrapper.html#a9d28aa8e55f93f2fc7699b952e2490e0\n",
    "#         print('HeadTimestamp.ReqId:', reqId, 'HeadTimeStamp:', headTimestamp)\n",
    "        \n",
    "#     @iswrapper\n",
    "#     def tickSnapshotEnd(tickerId: int):\n",
    "#         # When requesting market data snapshots, \n",
    "#         # this market will indicate the snapshot reception is finished. Expected to occur 11 seconds after beginning of request. \n",
    "#         super().tickSnapshotEnd(reqId)\n",
    "#         print('TickSnapshotEnd.TickerId:' reqId)\n",
    "    \n",
    "    "
   ]
  },
  {
   "cell_type": "code",
   "execution_count": 19,
   "metadata": {},
   "outputs": [],
   "source": [
    "class IBapi(EClient, EWrapper):\n",
    "    \n",
    "    \"\"\"\n",
    "    需要这么几方面数据：\n",
    "    # 1. 行情数据：\n",
    "    当前合约的所有时间框架下的数据，需要能够得到在当前时刻的，过去n根bar数据OHLCV\n",
    "    需要获取实时数据，实时tick数据，包含成交数据，以及报价数据\n",
    "    \n",
    "    2. 账户数据\n",
    "    当前账户信息\n",
    "    需要得到当前仓位信息，仓位放入dataframe中\n",
    "    历史成交\n",
    "    \n",
    "    3. 订单管理数据\n",
    "    订单发送\n",
    "    当前挂单状态\n",
    "    历史订单\n",
    "    \"\"\"\n",
    "    \n",
    "    def __init__(self, addr, port, client_id):\n",
    "        \n",
    "        posns = collections.defaultdict(list)\n",
    "        \n",
    "        \n",
    "        \n",
    "        \n",
    "        EClient. __init__(self, self)\n",
    "        self.data=[]\n",
    "        # self.data:list 必须放置在这个位置，因为是以流形式存在\n",
    "        self.historical_data_end=False\n",
    "        self.current_position=[]\n",
    "        self.connect(addr, port, client_id)\n",
    "        self.current_TWS_time=datetime.now()\n",
    "        \n",
    "    \n",
    "        # Launch the client thread\n",
    "        thread = Thread(target=self.run)\n",
    "        thread.start()\n",
    "    \n",
    "    @iswrapper\n",
    "    def currentTime(self, cur_time):\n",
    "        t = datetime.fromtimestamp(cur_time)\n",
    "        print('Current time: {}'.format(t))\n",
    "        self.current_TWS_time=t\n",
    "        \n",
    "    def historicalData(self, reqId, bar):\n",
    "        # print(f'Time: {bar.date} Open:{bar.open} High: {bar.high} Low: {bar.low} Close: {bar.close}')\n",
    "        self.data.append([bar.date, bar.open,bar.high,bar.low,bar.close])\n",
    "    #     # 此函数重构了historicalData函数，响应reqhistoricalData的请求，返回reqId:int，和bar:Bar\n",
    "    #     # Bar中包含OHLC和Volume，Volume在外汇中不好使，reqhistoricalData中使用\"TRADES\",这是个错误\n",
    "    #     # 如果是股票则需要成交量，外汇暂可以认为成交量oo\n",
    "    \n",
    "    def historicalDataEnd(self, reqId: int, start: str, end: str):\n",
    "        # super().historicalDataEnd(reqId, start, end)\n",
    "        self.historical_data_end=True \n",
    "        print(\"HistoricalDataEnd. ReqId:\", reqId, \"from\", start, \"to\", end)\n",
    "\n",
    "    def historicalTicks(self, reqId, ticks, done):\n",
    "        for tick in ticks:\n",
    "            print(\"HistoricalTick. ReqId:\", reqId, tick)\n",
    "    \n",
    "    def headTimestamp(self, reqId:int, headTimestamp:str):\n",
    "        print(\"HeadTimestamp. ReqId:\", reqId, \"HeadTimeStamp:\", headTimestamp)\n",
    "    \n",
    "    def tickSnapshotEnd(self, reqId: int):\n",
    "        super().tickSnapshotEnd(reqId)\n",
    "        print(\"TickSnapshotEnd. TickerId:\", reqId)\n",
    "    def tickPrice(self,reqId,field,price,attrib):\n",
    "        print (\"reqId is \",reqId,\"field is \",field,\"price is \",price)\n",
    "\n",
    "\n",
    "    def mktDepthExchanges(self, depthMktDataDescriptions):\n",
    "        # super().mktDepthExchanges(depthMktDataDescriptions)\n",
    "        print(\"MktDepthExchanges:\")\n",
    "        for desc in depthMktDataDescriptions:\n",
    "            print(\"DepthMktDataDescription.\", desc)\n",
    "            \n",
    "    def realtimeBar(self, reqId, time, open_, high, low, close, volume, wap, count):\n",
    "        # super().realtimeBar(reqId, time, open_, high, low, close, volume, wap, count)\n",
    "        # print(\"RealTimeBar. TickerId:\", reqId, RealTimeBar(time, -1, open_, high, low, close, volume, wap, count))\n",
    "        # print (\"reqId:\",reqId,\"time:\", time,\"open:\",open_,\"high:\",high,\"low:\" low,\"close:\",close)        \n",
    "        print (reqId,open_,close,high,low,volume)\n",
    "        \n",
    "    def accountSummary(self, reqId: int, account: str, tag: str, value: str, currency: str):\n",
    "        # super().accountSummary(reqId, account, tag, value, currency)\n",
    "        print(\"AccountSummary. ReqId:\", reqId, \"Account:\", account,\"Tag: \", tag, \"Value:\", value, \"Currency:\", currency)\n",
    "        # print (\"ReqId:\", reqId,\"BuyingPower:\", BuyingPower)\n",
    "    def storehistoricalData(self):\n",
    "        # 将历史数据存入df中\n",
    "        df = pd.DataFrame(self.data, columns=['DateTime','Open','High','Low','Close'])\n",
    "        df['DateTime'] = pd.to_datetime(df['DateTime'])\n",
    "        df.set_index(['DateTime'],inplace=True) \n",
    "        # df.to_csv('eurusd.csv') \n",
    "        return df\n",
    "        # print(df)\n",
    "    def managedAccounts(self, accountsList: str):\n",
    "        # super().managedAccounts(accountsList)\n",
    "        # print(\"Account list:\", accountsList)\n",
    "        self.account_list=accountsList\n",
    "    def openOrder(self, orderId, contract, order,orderState):\n",
    "        super().openOrder(orderId, contract, order, orderState)\n",
    "        print(\"OpenOrder. PermId: \", order.permId, \"ClientId:\", order.clientId, \" OrderId:\", orderId, \\\n",
    "              \"Account:\", order.account, \"Symbol:\", contract.symbol, \"SecType:\", contract.secType,\n",
    "              \"Exchange:\", contract.exchange, \"Action:\", order.action, \"OrderType:\", order.orderType,\n",
    "              \"TotalQty:\", order.totalQuantity, \"CashQty:\", order.cashQty, \n",
    "                \"LmtPrice:\", order.lmtPrice, \"AuxPrice:\", order.auxPrice, \"Status:\", orderState.status)\n",
    "    \n",
    "          # order.contract = contract\n",
    "          # self.permId2ord[order.permId] = order\n",
    "    def orderStatus(self, orderId, status: str, filled: float,remaining: float, avgFillPrice: float,\\\n",
    "                    permId: int,parentId: int, lastFillPrice: float, clientId: int,whyHeld: str, mktCapPrice: float):\n",
    "        super().orderStatus(orderId, status, filled, remaining,avgFillPrice, permId, parentId, lastFillPrice, clientId, whyHeld, mktCapPrice)\n",
    "        print(\"OrderStatus. Id:\", orderId, \"Status:\", status, \"Filled:\", filled,\"Remaining:\", remaining, \"AvgFillPrice:\", avgFillPrice,\n",
    "               \"PermId:\", permId, \"ParentId:\", parentId, \"LastFillPrice:\",lastFillPrice, \"ClientId:\", clientId, \"WhyHeld:\",whyHeld, \"MktCapPrice:\", mktCapPrice)\n",
    "        \n",
    "    def openOrderEnd(self):\n",
    "        super().openOrderEnd()\n",
    "        print(\"OpenOrderEnd\")\n",
    "        # logging.debug(\"Received %d openOrders\", len(self.permId2ord))\n",
    "        \n",
    "    def execDetailsEnd(self, reqId: int):\n",
    "        super().execDetailsEnd(reqId)\n",
    "        print(\"ExecDetailsEnd. ReqId:\", reqId)\n",
    "    \n",
    "    def execDetails(self, reqId: int, contract: Contract, execution: Execution):\n",
    "        super().execDetails(reqId, contract, execution)\n",
    "        print(\"ExecDetails. ReqId:\", reqId, \"Symbol:\", contract.symbol, \"SecType:\", contract.secType, \"Currency:\", contract.currency, execution)\n",
    "    \n",
    "    def commissionReport(self, commissionReport: CommissionReport):\n",
    "        super().commissionReport(commissionReport)\n",
    "        print(\"CommissionReport.\", commissionReport)\n",
    "    \n",
    "    def error(self, reqId, errorCode, errorString):\n",
    "        super().error(reqId, errorCode, errorString)\n",
    "        if int(errorCode) >= 2000:\n",
    "            return\n",
    "        # print('| Server return an error! reqId: %s, errorCode:%s, msg:%s' % (\n",
    "        #     reqId, errorCode, errorString))\n",
    "        # if reqId > -1:\n",
    "        # print(\"Error.Id: \" , reqId, \" Code: \" , errorCode , \" Msg: \" , errorString)\n",
    "\n",
    "    \n",
    "    def completedOrder(self, contract, order, orderState):\n",
    "        print(\"Contract is :\", contract, \"Order:\", order, \"orderState:\", orderState)\n",
    "    \n",
    "    def position(self, account: str, contract: Contract, position: float,avgCost: float):\n",
    "        super().position(account, contract, position, avgCost)\n",
    "        # print(\"Position.\", \"Account:\", account, \"Symbol:\", contract.symbol,\\\n",
    "              # \"SecType:\", contract.secType, \"Currency:\", contract.currency,\"Position:\", position, \"Avg cost:\", avgCost)\n",
    "        self.current_position.append([account,contract.symbol,contract.secType,contract.currency,position,avgCost])\n",
    "    \n",
    "   \n",
    "    def get_current_position_in_df(self):\n",
    "        if self.isConnected():\n",
    "            self.position_df=pd.DataFrame(self.current_position,columns=['Account','Symbol','SecurityType','Currency','Position','AverageCost'])\n",
    "            return self.position_df\n",
    "        else:\n",
    "            return 0\n",
    "    \n",
    "    def positionEnd(self):\n",
    "        super().positionEnd()\n",
    "        # print(\"PositionEnd\")\n",
    "        \n",
    "    def nextValidId(self, orderId: int):\n",
    "        super().nextValidId(orderId)\n",
    "        self.nextorderId = orderId\n",
    "        # print('The next valid order id is: ', self.nextorderId)\n",
    "    \n",
    "    def Find_Position(self, Account:str,Symbol:str, secType:str,Currency):\n",
    "        position=self.position_df[(self.position_df['Account']==Account) &\n",
    "                                     (self.position_df['Symbol']==Symbol) & \n",
    "                                     (self.position_df['SecurityType']==secType) &\n",
    "                                     (self.position_df['Currency']==Currency)]\n",
    "        position=position.reset_index(drop=True)\n",
    "        return position['Position'][0]"
   ]
  },
  {
   "cell_type": "code",
   "execution_count": 20,
   "metadata": {},
   "outputs": [],
   "source": [
    "# 定义唐奇安通道相关参数\n",
    "n1 = 20\n",
    "n3 = 10\n",
    "\n",
    "# 是否进行 K线图可视化\n",
    "open_graph = False\n",
    "\n",
    "# 创建交易合约类\n",
    "eurusd_contract = FX_Contract('EUR')\n",
    "\n",
    "# 定义每次成交量 1 手\n",
    "trading_volume_per_lot = 100000  # 标准手是：10W， 迷你手是 1W\n",
    "number_of_lots = 1  # 手数\n",
    "quantity = trading_volume_per_lot * number_of_lots\n",
    "\n",
    "log_to_localfile('程序开始运行')  # 记录日志"
   ]
  },
  {
   "cell_type": "markdown",
   "metadata": {},
   "source": [
    "# 分步实现"
   ]
  },
  {
   "cell_type": "markdown",
   "metadata": {},
   "source": [
    "## 任务1：TWS连接测试"
   ]
  },
  {
   "cell_type": "code",
   "execution_count": null,
   "metadata": {},
   "outputs": [],
   "source": [
    "clientId = np.random.randint(1,100) \n",
    "ibapi = IBapi('127.0.0.1', 7497, clientId)\n",
    "time.sleep(0.5)"
   ]
  },
  {
   "cell_type": "code",
   "execution_count": null,
   "metadata": {},
   "outputs": [],
   "source": [
    "# 程序持续运行，不需要断开连接\n",
    "time.sleep(1)\n",
    "print (\"即将断开连接\")    \n",
    "ibapi.disconnect()"
   ]
  },
  {
   "cell_type": "markdown",
   "metadata": {},
   "source": [
    "## 任务2：每一秒钟打印时间，如果有断连重新链接"
   ]
  },
  {
   "cell_type": "markdown",
   "metadata": {},
   "source": [
    "- TWS 和 API 即使在同一个主机上，也有可能存在断连的情况 → 要考虑断连的情况\n",
    "- 每次断连的时候，应该第一时间进行再次的连接\n",
    "- 连接满足时，再进行：获取数据、条件判断、下单"
   ]
  },
  {
   "cell_type": "code",
   "execution_count": null,
   "metadata": {
    "scrolled": true
   },
   "outputs": [],
   "source": [
    "clientId = np.random.randint(1,100) \n",
    "ibapi = IBapi('127.0.0.1', 7497, clientId)\n",
    "time.sleep(0.5)"
   ]
  },
  {
   "cell_type": "markdown",
   "metadata": {},
   "source": [
    "- 额外情况：TWS 的服务器死机 → 设置 counter， 如果 counter 错误出现 50 次，需要进行人工干预"
   ]
  },
  {
   "cell_type": "code",
   "execution_count": null,
   "metadata": {},
   "outputs": [],
   "source": [
    "while True:\n",
    "    if ibapi.isConnected()==False:  \n",
    "        # 此处需要注意有错误不能退出，不能让程序和市场处在断连的状态\n",
    "        print (req_current_TWS_time()+\"当前无TWS连接！尝试重新连接！\")\n",
    "        \n",
    "        # 为了避免clientId被占用，启用随机数作为连接clientId\n",
    "        clientId = np.random.randint(1,100) \n",
    "        ibapi = IBapi('127.0.0.1', 7497, clientId)\n",
    "        time.sleep(1)\n",
    "        continue \n",
    "    else:\n",
    "        # 当前TWS时间 \n",
    "        current_TWS_time=req_current_TWS_time()\n",
    "        current_IDE_time=req_current_time()\n",
    "        print('Current time is:', current_IDE_time)\n",
    "        time.sleep(1)"
   ]
  },
  {
   "cell_type": "markdown",
   "metadata": {},
   "source": [
    "## 任务3：隔一段时间获得当前的行情数据并保存下来\n",
    "- 为什么不实时接收？\n",
    "    - 如果是实时接收数据，操作系统的操作频率过高，对资源消耗较大\n",
    "    - 策略程序没有那么高频，无需实时接收程序"
   ]
  },
  {
   "cell_type": "code",
   "execution_count": null,
   "metadata": {
    "scrolled": true
   },
   "outputs": [],
   "source": [
    "clientId = np.random.randint(1,100) \n",
    "ibapi = IBapi('127.0.0.1', 7497, clientId)\n",
    "time.sleep(0.5)"
   ]
  },
  {
   "cell_type": "markdown",
   "metadata": {},
   "source": [
    "- 额外情况：TWS 的服务器死机 → 设置 counter， 如果 counter 错误出现 50 次，需要进行人工干预"
   ]
  },
  {
   "cell_type": "code",
   "execution_count": null,
   "metadata": {},
   "outputs": [],
   "source": [
    "while True:\n",
    "    if ibapi.isConnected()==False:  \n",
    "        # 此处需要注意有错误不能退出，不能让程序和市场处在断连的状态\n",
    "        print (req_current_TWS_time()+\"当前无TWS连接！尝试重新连接！\")\n",
    "        \n",
    "        # 为了避免clientId被占用，启用随机数作为连接clientId\n",
    "        clientId = np.random.randint(1,100) \n",
    "        ibapi = IBapi('127.0.0.1', 7497, clientId)\n",
    "        time.sleep(1)\n",
    "        continue \n",
    "    else:\n",
    "        # 当前TWS时间 \n",
    "        current_TWS_time=req_current_TWS_time()\n",
    "        current_IDE_time=req_current_time()\n",
    "        print('Current time is:', current_IDE_time)\n",
    "        \n",
    "        # 请求历史数据。一般情况下需要更长时间返回，给定3秒钟；其他请求可以酌情减少\n",
    "        ibapi.reqHistoricalData(reqId=110, contract = eurusd_contract, endDateTime='', durationStr='10 D', \\\n",
    "                                    barSizeSetting='1 hour', whatToShow='bid', useRTH = 1, formatDate=1, \\\n",
    "                                        keepUpToDate=False, chartOptions=[])\n",
    "        time.sleep(3)\n",
    "        print('Historical data is retrieved.')\n",
    "        time.sleep(7)\n",
    "        \n",
    "        # 调用自定义函数存储历史数据\n",
    "        df = ibapi.storehistoricalData()\n",
    "        df.to_csv('eurusd.csv') \n",
    "        "
   ]
  },
  {
   "cell_type": "code",
   "execution_count": null,
   "metadata": {},
   "outputs": [],
   "source": [
    "# 程序持续运行，不需要断开连接\n",
    "time.sleep(1)\n",
    "print (\"即将断开连接\")    \n",
    "ibapi.disconnect()"
   ]
  },
  {
   "cell_type": "markdown",
   "metadata": {},
   "source": [
    "## 任务4：可视化"
   ]
  },
  {
   "cell_type": "code",
   "execution_count": 19,
   "metadata": {},
   "outputs": [],
   "source": [
    "# 定义唐奇安通道相关参数\n",
    "n1 = 20\n",
    "n3 = 10\n",
    "\n",
    "# 是否进行 K线图可视化\n",
    "open_graph = True\n",
    "\n",
    "# 创建交易合约类\n",
    "eurusd_contract = FX_Contract('EUR')\n",
    "\n",
    "# 定义每次成交量 1 手\n",
    "trading_volume_per_lot = 100000  # 标准手是：10W， 迷你手是 1W\n",
    "number_of_lots = 1  # 手数\n",
    "quantity = trading_volume_per_lot * number_of_lots\n",
    "\n",
    "log_to_localfile('程序开始运行')  # 记录日志"
   ]
  },
  {
   "cell_type": "code",
   "execution_count": 20,
   "metadata": {
    "scrolled": false
   },
   "outputs": [
    {
     "name": "stderr",
     "output_type": "stream",
     "text": [
      "ERROR -1 2104 Market data farm connection is OK:usfarm.nj\n",
      "ERROR -1 2104 Market data farm connection is OK:hfarm\n",
      "ERROR -1 2103 Market data farm connection is broken:usfuture\n",
      "ERROR -1 2104 Market data farm connection is OK:cashfarm\n",
      "ERROR -1 2104 Market data farm connection is OK:usfarm\n",
      "ERROR -1 2106 HMDS data farm connection is OK:euhmds\n",
      "ERROR -1 2106 HMDS data farm connection is OK:cashhmds\n",
      "ERROR -1 2106 HMDS data farm connection is OK:hkhmds\n",
      "ERROR -1 2106 HMDS data farm connection is OK:fundfarm\n",
      "ERROR -1 2106 HMDS data farm connection is OK:ushmds\n",
      "ERROR -1 2158 Sec-def data farm connection is OK:secdefhk\n"
     ]
    }
   ],
   "source": [
    "clientId = np.random.randint(1,100) \n",
    "ibapi = IBapi('127.0.0.1', 7497, clientId)\n",
    "time.sleep(0.5)"
   ]
  },
  {
   "cell_type": "code",
   "execution_count": 22,
   "metadata": {},
   "outputs": [
    {
     "name": "stdout",
     "output_type": "stream",
     "text": [
      "Current time is: 15:56:32\n",
      "HistoricalDataEnd.ReqId: 110 from 20210902  15:56:36 to 20210905  15:56:36\n",
      "Historical data is retrieved.\n",
      "数据获取完成！\n"
     ]
    },
    {
     "data": {
      "image/png": "[encoded data removed]",
      "text/plain": [
       "<Figure size 800x575 with 2 Axes>"
      ]
     },
     "metadata": {},
     "output_type": "display_data"
    },
    {
     "name": "stderr",
     "output_type": "stream",
     "text": [
      "ERROR -1 2103 Market data farm connection is broken:usfuture\n",
      "ERROR -1 2103 Market data farm connection is broken:usfuture\n",
      "ERROR -1 2103 Market data farm connection is broken:usfuture\n",
      "ERROR -1 2103 Market data farm connection is broken:usfuture\n",
      "ERROR -1 2103 Market data farm connection is broken:usfuture\n"
     ]
    }
   ],
   "source": [
    "if ibapi.isConnected()==False:  \n",
    "        # 此处需要注意有错误不能退出，不能让程序和市场处在断连的状态\n",
    "        print (req_current_TWS_time()+\"当前无TWS连接！尝试重新连接！\")\n",
    "        \n",
    "        # 为了避免clientId被占用，启用随机数作为连接clientId\n",
    "        clientId = np.random.randint(1,100) \n",
    "        ibapi = IBapi('127.0.0.1', 7497, clientId)\n",
    "        time.sleep(1)\n",
    "else:\n",
    "    # 当前TWS时间 \n",
    "    current_TWS_time=req_current_TWS_time()\n",
    "    current_IDE_time=req_current_time()\n",
    "    print('Current time is:', current_IDE_time)\n",
    "\n",
    "    # 请求历史数据。一般情况下需要更长时间返回，给定3秒钟；其他请求可以酌情减少\n",
    "    ibapi.reqHistoricalData(reqId=110, contract = eurusd_contract, endDateTime='', durationStr='3 D', \\\n",
    "                                barSizeSetting='1 hour', whatToShow='bid', useRTH = 1, formatDate=1, \\\n",
    "                                    keepUpToDate=False, chartOptions=[])\n",
    "    time.sleep(3)\n",
    "    print('Historical data is retrieved.')\n",
    "\n",
    "    # 调用自定义函数存储历史数据\n",
    "    df = ibapi.storehistoricalData()\n",
    "#         df.to_csv('eurusd.csv') \n",
    "\n",
    "    # 计算唐奇安通道: df 数据；n 表示周期；name 表示在 df 中新的列名，用来存储唐奇安通道的上轨数值\n",
    "    donchian_high(df,n1, 'donchian_up' )  \n",
    "    donchian_low(df,n1, 'donchian_down' )  \n",
    "\n",
    "    donchian_high(df, n3, 'donchian_up_n3')\n",
    "    donchian_low(df,n3, 'donchian_down_n3' )  \n",
    "\n",
    "    # 将原始数据以及计算好的唐奇安通道保存至文件\n",
    "    df.to_excel(\"eurusd.xlsx\")\n",
    "    print (\"数据获取完成！\")\n",
    "\n",
    "    # 行情及唐奇安通道可视化，亦可用于进出场位置标记\n",
    "    if open_graph == True:  # 显示 n1, n2, n3 唐奇安通道\n",
    "        add_plot = [\n",
    "            mpf.make_addplot(df['donchian_up'], markersize = 8, color = 'g'),\n",
    "            mpf.make_addplot(df['donchian_down'], markersize = 8, color = 'r'),\n",
    "#                 mpf.make_addplot(df['donchian_up_n2'], markersize = 8, color = 'b'),\n",
    "#                 mpf.make_addplot(df['donchian_up_n2'], markersize = 8, color = 'y'),\n",
    "            mpf.make_addplot(df['donchian_up_n3'], markersize = 8, color = 'c'),\n",
    "            mpf.make_addplot(df['donchian_down_n3'], markersize = 8, color = 'm'),\n",
    "        ]\n",
    "        title = 'EURUSD'\n",
    "        style = mpf.make_mpf_style(base_mpf_style = 'yahoo', rc={'font.family': 'SimHei'})\n",
    "       # try:\n",
    "            # 画图。包含K线图，唐奇安通道，进出位置\n",
    "        graph = mpf.plot(df, addplot = add_plot, title = title, ylabel = 'Price',\\\n",
    "                         type = 'candle', style = style, show_nontrading = False)\n",
    "        #except:\n",
    "         #   print('画图失败')\n",
    "\n",
    "    time.sleep(57)  "
   ]
  },
  {
   "cell_type": "code",
   "execution_count": 23,
   "metadata": {},
   "outputs": [
    {
     "name": "stdout",
     "output_type": "stream",
     "text": [
      "即将断开连接\n"
     ]
    }
   ],
   "source": [
    "# 程序持续运行，不需要断开连接\n",
    "time.sleep(1)\n",
    "print (\"即将断开连接\")    \n",
    "ibapi.disconnect()"
   ]
  },
  {
   "cell_type": "markdown",
   "metadata": {},
   "source": [
    "## 任务5：下单"
   ]
  },
  {
   "cell_type": "markdown",
   "metadata": {},
   "source": [
    "- main 函数的必要性\n",
    "- 策略周期： 一小时执行一次，程序需要监视 → 时间运行的时间是一个固定的时间"
   ]
  },
  {
   "cell_type": "markdown",
   "metadata": {},
   "source": [
    "### 设置程序执行时间"
   ]
  },
  {
   "cell_type": "code",
   "execution_count": 21,
   "metadata": {},
   "outputs": [],
   "source": [
    "time_list = [\"00:01\",\"01:01\",\"02:01\",\"03:01\",\"04:01\",\"05:01\",\\\n",
    "            \"06:01\",\"07:01\",\"08:01\",\"09:01\",\"10:01\",\"11:01\",\\\n",
    "                \"12:01\",\"13:01\",\"14:01\",\"15:01\",\"16:01\",\"17:16\"\\\n",
    "                    \"18:01\",\"19:01\",\"20:01\",\"21:01\",\"22:01\",\"23:01\"]"
   ]
  },
  {
   "cell_type": "markdown",
   "metadata": {},
   "source": [
    "- 以美东时间为基准的\n",
    "    - 理论上，外汇市场是 24H 连续交易：周日下午5点 - 周五下午5点\n",
    "    - 实际情况下，每天的下午5点 - 5:15，所有交易所都处于关盘的状态下\n",
    "        - 选择`17:16` 越过流动性特别低的时候。"
   ]
  },
  {
   "cell_type": "markdown",
   "metadata": {},
   "source": [
    "### 初始化及参数设置"
   ]
  },
  {
   "cell_type": "code",
   "execution_count": 22,
   "metadata": {},
   "outputs": [],
   "source": [
    "# 定义唐奇安通道相关参数\n",
    "n1 = 20\n",
    "n3 = 10\n",
    "\n",
    "# 是否进行 K线图可视化\n",
    "open_graph = False\n",
    "\n",
    "# 创建交易合约类\n",
    "eurusd_contract = FX_Contract('EUR')\n",
    "\n",
    "# 定义每次成交量 1 手\n",
    "trading_volume_per_lot = 100000  # 标准手是：10W， 迷你手是 1W\n",
    "number_of_lots = 1  # 手数\n",
    "quantity = trading_volume_per_lot * number_of_lots\n",
    "\n",
    "log_to_localfile('程序开始运行')  # 记录日志"
   ]
  },
  {
   "cell_type": "markdown",
   "metadata": {},
   "source": [
    "### 条件判断 → 下单"
   ]
  },
  {
   "cell_type": "markdown",
   "metadata": {},
   "source": [
    "- TWS 和 API 即使在同一个主机上，也有可能存在断连的情况 → 要考虑断连的情况\n",
    "- 每次断连的时候，应该第一时间进行再次的连接\n",
    "- 连接满足时，再进行：获取数据、条件判断、下单"
   ]
  },
  {
   "cell_type": "code",
   "execution_count": 23,
   "metadata": {},
   "outputs": [
    {
     "name": "stderr",
     "output_type": "stream",
     "text": [
      "ERROR -1 2104 Market data farm connection is OK:usfarm.nj\n",
      "ERROR -1 2104 Market data farm connection is OK:hfarm\n",
      "ERROR -1 2103 Market data farm connection is broken:usfuture\n",
      "ERROR -1 2104 Market data farm connection is OK:cashfarm\n",
      "ERROR -1 2104 Market data farm connection is OK:usfarm\n",
      "ERROR -1 2106 HMDS data farm connection is OK:euhmds\n",
      "ERROR -1 2106 HMDS data farm connection is OK:cashhmds\n",
      "ERROR -1 2106 HMDS data farm connection is OK:hkhmds\n",
      "ERROR -1 2106 HMDS data farm connection is OK:fundfarm\n",
      "ERROR -1 2106 HMDS data farm connection is OK:ushmds\n",
      "ERROR -1 2158 Sec-def data farm connection is OK:secdefhk\n"
     ]
    }
   ],
   "source": [
    "clientId = np.random.randint(1,100) \n",
    "ibapi = IBapi('127.0.0.1', 7497, clientId)\n",
    "time.sleep(0.5)"
   ]
  },
  {
   "cell_type": "code",
   "execution_count": 25,
   "metadata": {
    "scrolled": false
   },
   "outputs": [
    {
     "name": "stdout",
     "output_type": "stream",
     "text": [
      "TWS 已经连接!\n",
      "Current time is: 14:23:16\n"
     ]
    },
    {
     "ename": "NameError",
     "evalue": "name 'df' is not defined",
     "output_type": "error",
     "traceback": [
      "\u001B[1;31m---------------------------------------------------------------------------\u001B[0m",
      "\u001B[1;31mNameError\u001B[0m                                 Traceback (most recent call last)",
      "\u001B[1;32m<ipython-input-25-582a3b095078>\u001B[0m in \u001B[0;36m<module>\u001B[1;34m\u001B[0m\n\u001B[0;32m     65\u001B[0m \u001B[1;33m\u001B[0m\u001B[0m\n\u001B[0;32m     66\u001B[0m         \u001B[1;32melif\u001B[0m \u001B[0mposition\u001B[0m \u001B[1;33m>\u001B[0m \u001B[1;36m0\u001B[0m\u001B[1;33m:\u001B[0m  \u001B[1;31m# 有做多仓位时，满足条件则平仓\u001B[0m\u001B[1;33m\u001B[0m\u001B[1;33m\u001B[0m\u001B[0m\n\u001B[1;32m---> 67\u001B[1;33m             \u001B[1;32mif\u001B[0m \u001B[0mclose_buy_condition\u001B[0m\u001B[1;33m(\u001B[0m\u001B[1;33m)\u001B[0m\u001B[1;33m:\u001B[0m\u001B[1;33m\u001B[0m\u001B[1;33m\u001B[0m\u001B[0m\n\u001B[0m\u001B[0;32m     68\u001B[0m                 \u001B[0mPlace_Market_Order\u001B[0m\u001B[1;33m(\u001B[0m\u001B[0meurusd_contract\u001B[0m\u001B[1;33m,\u001B[0m \u001B[1;34m'sell'\u001B[0m\u001B[1;33m,\u001B[0m \u001B[0mquantity\u001B[0m\u001B[1;33m)\u001B[0m\u001B[1;33m\u001B[0m\u001B[1;33m\u001B[0m\u001B[0m\n\u001B[0;32m     69\u001B[0m                 \u001B[0mlog_to_localfile\u001B[0m\u001B[1;33m(\u001B[0m\u001B[0mreq_current_time\u001B[0m\u001B[1;33m(\u001B[0m\u001B[1;33m)\u001B[0m\u001B[1;33m+\u001B[0m\u001B[1;34m\"多仓平仓\"\u001B[0m\u001B[1;33m)\u001B[0m\u001B[1;33m\u001B[0m\u001B[1;33m\u001B[0m\u001B[0m\n",
      "\u001B[1;32m<ipython-input-13-bc596d0dedd3>\u001B[0m in \u001B[0;36mclose_buy_condition\u001B[1;34m()\u001B[0m\n\u001B[0;32m      1\u001B[0m \u001B[1;32mdef\u001B[0m \u001B[0mclose_buy_condition\u001B[0m\u001B[1;33m(\u001B[0m\u001B[1;33m)\u001B[0m \u001B[1;33m->\u001B[0m \u001B[0mbool\u001B[0m\u001B[1;33m:\u001B[0m  \u001B[1;31m# 多头平仓\u001B[0m\u001B[1;33m\u001B[0m\u001B[1;33m\u001B[0m\u001B[0m\n\u001B[1;32m----> 2\u001B[1;33m     \u001B[1;32mif\u001B[0m \u001B[0mdf\u001B[0m\u001B[1;33m[\u001B[0m\u001B[1;34m'Low'\u001B[0m\u001B[1;33m]\u001B[0m\u001B[1;33m[\u001B[0m\u001B[1;33m-\u001B[0m\u001B[1;36m2\u001B[0m\u001B[1;33m]\u001B[0m \u001B[1;33m<\u001B[0m \u001B[0mdf\u001B[0m\u001B[1;33m[\u001B[0m\u001B[1;34m'donchian_down_n3'\u001B[0m\u001B[1;33m]\u001B[0m\u001B[1;33m[\u001B[0m\u001B[1;33m-\u001B[0m\u001B[1;36m2\u001B[0m\u001B[1;33m]\u001B[0m \u001B[1;32mand\u001B[0m \u001B[0mdf\u001B[0m\u001B[1;33m[\u001B[0m\u001B[1;34m'Low'\u001B[0m\u001B[1;33m]\u001B[0m\u001B[1;33m[\u001B[0m\u001B[1;33m-\u001B[0m\u001B[1;36m3\u001B[0m\u001B[1;33m]\u001B[0m \u001B[1;33m>\u001B[0m \u001B[0mdf\u001B[0m\u001B[1;33m[\u001B[0m\u001B[1;34m'donchian_down_n3'\u001B[0m\u001B[1;33m]\u001B[0m\u001B[1;33m[\u001B[0m\u001B[1;33m-\u001B[0m\u001B[1;36m3\u001B[0m\u001B[1;33m]\u001B[0m\u001B[1;33m:\u001B[0m    \u001B[1;31m# 比较运算符的优先级 > 逻辑与\u001B[0m\u001B[1;33m\u001B[0m\u001B[1;33m\u001B[0m\u001B[0m\n\u001B[0m\u001B[0;32m      3\u001B[0m         \u001B[1;32mreturn\u001B[0m \u001B[1;32mTrue\u001B[0m\u001B[1;33m\u001B[0m\u001B[1;33m\u001B[0m\u001B[0m\n\u001B[0;32m      4\u001B[0m     \u001B[1;32melse\u001B[0m\u001B[1;33m:\u001B[0m\u001B[1;33m\u001B[0m\u001B[1;33m\u001B[0m\u001B[0m\n\u001B[0;32m      5\u001B[0m         \u001B[1;32mreturn\u001B[0m \u001B[1;32mFalse\u001B[0m\u001B[1;33m\u001B[0m\u001B[1;33m\u001B[0m\u001B[0m\n",
      "\u001B[1;31mNameError\u001B[0m: name 'df' is not defined"
     ]
    },
    {
     "name": "stderr",
     "output_type": "stream",
     "text": [
      "ERROR -1 2103 Market data farm connection is broken:usfuture\n",
      "ERROR -1 2103 Market data farm connection is broken:usfuture\n",
      "ERROR -1 2103 Market data farm connection is broken:usfuture\n",
      "ERROR -1 2103 Market data farm connection is broken:usfuture\n",
      "ERROR -1 2103 Market data farm connection is broken:usfuture\n",
      "ERROR -1 2103 Market data farm connection is broken:usfuture\n",
      "ERROR -1 2103 Market data farm connection is broken:usfuture\n",
      "ERROR -1 2103 Market data farm connection is broken:usfuture\n",
      "ERROR -1 2103 Market data farm connection is broken:usfuture\n",
      "ERROR -1 2103 Market data farm connection is broken:usfuture\n",
      "ERROR -1 2103 Market data farm connection is broken:usfuture\n",
      "ERROR -1 2103 Market data farm connection is broken:usfuture\n",
      "ERROR -1 2103 Market data farm connection is broken:usfuture\n",
      "ERROR -1 2103 Market data farm connection is broken:usfuture\n",
      "ERROR -1 2103 Market data farm connection is broken:usfuture\n",
      "ERROR -1 2103 Market data farm connection is broken:usfuture\n",
      "ERROR -1 2103 Market data farm connection is broken:usfuture\n",
      "ERROR -1 2103 Market data farm connection is broken:usfuture\n",
      "ERROR -1 2103 Market data farm connection is broken:usfuture\n",
      "ERROR -1 2103 Market data farm connection is broken:usfuture\n",
      "ERROR -1 2103 Market data farm connection is broken:usfuture\n",
      "ERROR -1 2103 Market data farm connection is broken:usfuture\n",
      "ERROR -1 2103 Market data farm connection is broken:usfuture\n",
      "ERROR -1 2103 Market data farm connection is broken:usfuture\n",
      "ERROR -1 2103 Market data farm connection is broken:usfuture\n",
      "ERROR -1 2108 Market data farm connection is inactive but should be available upon demand.usfarm.nj\n",
      "ERROR -1 2108 Market data farm connection is inactive but should be available upon demand.usfarm.nj\n",
      "ERROR -1 2103 Market data farm connection is broken:usfuture\n",
      "ERROR -1 2103 Market data farm connection is broken:usfuture\n",
      "ERROR -1 2103 Market data farm connection is broken:usfuture\n",
      "ERROR -1 2103 Market data farm connection is broken:usfuture\n",
      "ERROR -1 2103 Market data farm connection is broken:usfuture\n",
      "ERROR -1 2103 Market data farm connection is broken:usfuture\n",
      "ERROR -1 2103 Market data farm connection is broken:usfuture\n",
      "ERROR -1 2103 Market data farm connection is broken:usfuture\n",
      "ERROR -1 2103 Market data farm connection is broken:usfuture\n",
      "ERROR -1 2103 Market data farm connection is broken:usfuture\n",
      "ERROR -1 2103 Market data farm connection is broken:usfuture\n",
      "ERROR -1 2103 Market data farm connection is broken:usfuture\n",
      "ERROR -1 2103 Market data farm connection is broken:usfuture\n",
      "ERROR -1 2103 Market data farm connection is broken:usfuture\n",
      "ERROR -1 2103 Market data farm connection is broken:usfuture\n",
      "ERROR -1 2103 Market data farm connection is broken:usfuture\n",
      "ERROR -1 2103 Market data farm connection is broken:usfuture\n",
      "ERROR -1 2103 Market data farm connection is broken:usfuture\n",
      "ERROR -1 2103 Market data farm connection is broken:usfuture\n",
      "ERROR -1 2103 Market data farm connection is broken:usfuture\n",
      "ERROR -1 2103 Market data farm connection is broken:usfuture\n",
      "ERROR -1 2103 Market data farm connection is broken:usfuture\n",
      "ERROR -1 2103 Market data farm connection is broken:usfuture\n",
      "ERROR -1 2103 Market data farm connection is broken:usfuture\n",
      "ERROR -1 2103 Market data farm connection is broken:usfuture\n",
      "ERROR -1 2103 Market data farm connection is broken:usfuture\n",
      "ERROR -1 2103 Market data farm connection is broken:usfuture\n",
      "ERROR -1 2103 Market data farm connection is broken:usfuture\n",
      "ERROR -1 2103 Market data farm connection is broken:usfuture\n",
      "ERROR -1 2103 Market data farm connection is broken:usfuture\n",
      "ERROR -1 2103 Market data farm connection is broken:usfuture\n",
      "ERROR -1 2103 Market data farm connection is broken:usfuture\n",
      "ERROR -1 2103 Market data farm connection is broken:usfuture\n",
      "ERROR -1 2103 Market data farm connection is broken:usfuture\n",
      "ERROR -1 2103 Market data farm connection is broken:usfuture\n",
      "ERROR -1 2103 Market data farm connection is broken:usfuture\n",
      "ERROR -1 2103 Market data farm connection is broken:usfuture\n",
      "ERROR -1 2103 Market data farm connection is broken:usfuture\n",
      "ERROR -1 2103 Market data farm connection is broken:usfuture\n",
      "ERROR -1 2103 Market data farm connection is broken:usfuture\n",
      "ERROR -1 2103 Market data farm connection is broken:usfuture\n",
      "ERROR -1 2103 Market data farm connection is broken:usfuture\n",
      "ERROR -1 2103 Market data farm connection is broken:usfuture\n",
      "ERROR -1 2103 Market data farm connection is broken:usfuture\n",
      "ERROR -1 2103 Market data farm connection is broken:usfuture\n",
      "ERROR -1 2103 Market data farm connection is broken:usfuture\n",
      "ERROR -1 2103 Market data farm connection is broken:usfuture\n",
      "ERROR -1 2103 Market data farm connection is broken:usfuture\n",
      "ERROR -1 2103 Market data farm connection is broken:usfuture\n",
      "ERROR -1 2103 Market data farm connection is broken:usfuture\n",
      "ERROR -1 2103 Market data farm connection is broken:usfuture\n",
      "ERROR -1 2104 Market data farm connection is OK:usfarm.nj\n"
     ]
    }
   ],
   "source": [
    "while True:\n",
    "    if ibapi.isConnected() == False:  # EClient 的函数 true if connection has been established, false if it has not. \n",
    "        # https://interactivebrokers.github.io/tws-api/classIBApi_1_1EClient.html#ab8e2702adca8f47228f9754f4963455d\n",
    "        # 此处需要注意有错误不能退出，不能让程序和市场处在断连的状态   \n",
    "        print(req_current_TWS_time()+'当前无 TWS 连接！尝试重新连接！')\n",
    "\n",
    "        # 为了避免clientId被占用，启用随机数作为连接clientId\n",
    "        clientId = np.random.randint(1, 100)\n",
    "        ibapi = IBapi('127.0.0.1', 7497, clientId)\n",
    "        time.sleep(0.5)\n",
    "        continue  # 这里为什么要加 continue 呢？又没有循环\n",
    "    else:\n",
    "        print (\"TWS 已经连接!\")\n",
    "        \n",
    "        # 获得当前仓位情况\n",
    "        ibapi.reqPositions()  # 这句代码还要单独执行么？后面调用 get_current 不会类内部自动运行么\n",
    "        time.sleep(1)\n",
    "        current_position = ibapi.get_current_position_in_df() # 这句代码还要单独执行么？后面调用 Find_Position 不会类内部自动运行么\n",
    "        position = ibapi.Find_Position('DU4257965', 'EUR', 'CASH', 'USD' )\n",
    "        \n",
    "        # 当前TWS时间 \n",
    "        current_TWS_time = req_current_TWS_time()\n",
    "        current_IDE_time = req_current_time()\n",
    "        print('Current time is:', current_IDE_time)\n",
    "\n",
    "        # 请求历史数据。一般情况下需要更长时间返回，给定3秒钟；其他请求可以酌情减少\n",
    "        \n",
    "        if current_IDE_time in time_list:\n",
    "            print('**当前时间：', current_IDE_time,'**')\n",
    "            ibapi.reqHistoricalData(reqId=110, contract = eurusd_contract, endDateTime='', durationStr='3 D', \\\n",
    "                                        barSizeSetting='1 hour', whatToShow='bid', useRTH = 1, formatDate=1, \\\n",
    "                                            keepUpToDate=False, chartOptions=[])\n",
    "            time.sleep(3)\n",
    "            \n",
    "            # 调用自定义函数存储历史数据\n",
    "            df = ibapi.storehistoricalData()\n",
    "\n",
    "            # 计算唐奇安通道: df 数据；n 表示周期；name 表示在 df 中新的列名，用来存储唐奇安通道的上轨数值\n",
    "            donchian_high(df,n1, 'donchian_up' )  \n",
    "            donchian_low(df,n1, 'donchian_down' )  \n",
    "            donchian_high(df, n3, 'donchian_up_n3')\n",
    "            donchian_low(df,n3, 'donchian_down_n3' )  \n",
    "\n",
    "            # 将原始数据以及计算好的唐奇安通道保存至文件\n",
    "            df.to_excel(\"EURUSD.xlsx\")\n",
    "            print (\"数据获取完成！\")\n",
    "            \n",
    "        # 仓位判断\n",
    "        if position == 0:  # 无仓位时，满足条件则开仓\n",
    "            \n",
    "            if buy_condition():\n",
    "                Place_Market_Order(eurusd_contract, 'buy', quantity)\n",
    "                # 开仓之后避免同一分钟之内连续开仓，可加以控制\n",
    "                # 只需要挺过100秒，则不再继续开仓\n",
    "                # 此位置更加严格的写法是返回开仓成功以后再沉睡100秒，如不成功则需要人工干预\n",
    "                # print (datetime.now().strftime(\"%H:%M\")+\"开多仓\")\n",
    "                log_to_localfile(req_current_time()+\"开多仓\")\n",
    "                time.sleep(1)\n",
    "            \n",
    "            if sell_condition():\n",
    "                Place_Market_Order(eurusd_contract, 'sell', quantity)\n",
    "                # print (datetime.now().strftime(\"%H:%M\")+\"开空仓\")\n",
    "                log_to_localfile(req_current_time()+\"开空仓\")\n",
    "                time.sleep(1)\n",
    "                \n",
    "        elif position > 0:  # 有做多仓位时，满足条件则平仓\n",
    "            if close_buy_condition():\n",
    "                Place_Market_Order(eurusd_contract, 'sell', quantity)\n",
    "                log_to_localfile(req_current_time()+\"多仓平仓\")\n",
    "                time.sleep(1)\n",
    "            \n",
    "        elif position < 0:  # 有做空仓位时，满足条件则平仓\n",
    "            if close_buy_condition():\n",
    "                    Place_Market_Order(eurusd_contract, 'buy', quantity)\n",
    "                    # print (datetime.now().strftime(\"%H:%M\")+\"空仓平仓\")\n",
    "                    log_to_localfile(req_current_time()+\"空仓平仓\")\n",
    "                    time.sleep(1)\n",
    "                    \n",
    "        time.sleep(60)  # 1 min 只需要下一次单，每一小时\n",
    "        \n",
    "    time.sleep(10)"
   ]
  },
  {
   "cell_type": "code",
   "execution_count": null,
   "metadata": {},
   "outputs": [],
   "source": [
    "# 程序持续运行，不需要断开连接\n",
    "time.sleep(1)\n",
    "print (\"即将断开连接\")    \n",
    "ibapi.disconnect()"
   ]
  }
 ],
 "metadata": {
  "kernelspec": {
   "display_name": "Python 3 (ipykernel)",
   "language": "python",
   "name": "python3"
  },
  "language_info": {
   "codemirror_mode": {
    "name": "ipython",
    "version": 3
   },
   "file_extension": ".py",
   "mimetype": "text/x-python",
   "name": "python",
   "nbconvert_exporter": "python",
   "pygments_lexer": "ipython3",
   "version": "3.9.7"
  },
  "toc": {
   "base_numbering": 1,
   "nav_menu": {},
   "number_sections": true,
   "sideBar": true,
   "skip_h1_title": false,
   "title_cell": "Table of Contents",
   "title_sidebar": "Contents",
   "toc_cell": false,
   "toc_position": {
    "height": "calc(100% - 180px)",
    "left": "10px",
    "top": "150px",
    "width": "384px"
   },
   "toc_section_display": true,
   "toc_window_display": true
  }
 },
 "nbformat": 4,
 "nbformat_minor": 4
}